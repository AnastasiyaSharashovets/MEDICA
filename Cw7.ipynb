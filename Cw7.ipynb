{
  "cells": [
    {
      "cell_type": "markdown",
      "metadata": {
        "id": "view-in-github",
        "colab_type": "text"
      },
      "source": [
        "<a href=\"https://colab.research.google.com/github/AnastasiyaSharashovets/MEDICA/blob/main/Cw7.ipynb\" target=\"_parent\"><img src=\"https://colab.research.google.com/assets/colab-badge.svg\" alt=\"Open In Colab\"/></a>"
      ]
    },
    {
      "cell_type": "markdown",
      "metadata": {
        "id": "7xWyIZgWWW40"
      },
      "source": [
        "# System obsługi pacjentów – Medica+"
      ]
    },
    {
      "cell_type": "markdown",
      "metadata": {
        "id": "tLoSbNjaWW44"
      },
      "source": [
        "## 1. Formularz HTML – Dodanie nowego pacjenta"
      ]
    },
    {
      "cell_type": "code",
      "execution_count": null,
      "metadata": {
        "colab": {
          "base_uri": "https://localhost:8080/",
          "height": 232
        },
        "id": "FY5GGz1iWW45",
        "outputId": "5895db28-835e-4b19-f4d8-fbe46df49fdb"
      },
      "outputs": [
        {
          "output_type": "display_data",
          "data": {
            "text/plain": [
              "<IPython.core.display.HTML object>"
            ],
            "text/html": [
              "\n",
              "<h2>Dodaj nowego pacjenta</h2>\n",
              "<form action=\"/add_patient\" method=\"post\">\n",
              "  Imię: <input type=\"text\" name=\"imie\"><br><br>\n",
              "  Nazwisko: <input type=\"text\" name=\"nazwisko\"><br><br>\n",
              "  PESEL: <input type=\"text\" name=\"pesel\"><br><br>\n",
              "  Email: <input type=\"email\" name=\"email\"><br><br>\n",
              "  <input type=\"submit\" value=\"Zapisz\">\n",
              "</form>\n"
            ]
          },
          "metadata": {}
        }
      ],
      "source": [
        "from IPython.display import display, HTML\n",
        "\n",
        "form_html = \"\"\"\n",
        "<h2>Dodaj nowego pacjenta</h2>\n",
        "<form action=\"/add_patient\" method=\"post\">\n",
        "  Imię: <input type=\"text\" name=\"imie\"><br><br>\n",
        "  Nazwisko: <input type=\"text\" name=\"nazwisko\"><br><br>\n",
        "  PESEL: <input type=\"text\" name=\"pesel\"><br><br>\n",
        "  Email: <input type=\"email\" name=\"email\"><br><br>\n",
        "  <input type=\"submit\" value=\"Zapisz\">\n",
        "</form>\n",
        "\"\"\"\n",
        "\n",
        "display(HTML(form_html))"
      ]
    },
    {
      "cell_type": "markdown",
      "metadata": {
        "id": "b1i0nUBiWW47"
      },
      "source": [
        "## 2. Baza danych SQLite i tabela pacjentów"
      ]
    },
    {
      "cell_type": "code",
      "execution_count": null,
      "metadata": {
        "id": "hROSYcalWW47"
      },
      "outputs": [],
      "source": [
        "import sqlite3\n",
        "\n",
        "conn = sqlite3.connect(\"pacjenci.db\")\n",
        "cursor = conn.cursor()\n",
        "\n",
        "cursor.execute(\"\"\"\n",
        "CREATE TABLE IF NOT EXISTS pacjenci (\n",
        "  id INTEGER PRIMARY KEY AUTOINCREMENT,\n",
        "  imie TEXT,\n",
        "  nazwisko TEXT,\n",
        "  pesel TEXT,\n",
        "  email TEXT,\n",
        "  haslo TEXT\n",
        ")\n",
        "\"\"\")\n",
        "\n",
        "conn.commit()\n",
        "conn.close()"
      ]
    },
    {
      "cell_type": "markdown",
      "metadata": {
        "id": "h0RGaQymWW48"
      },
      "source": [
        "## 3. Dodanie pacjenta do bazy danych"
      ]
    },
    {
      "cell_type": "code",
      "execution_count": null,
      "metadata": {
        "id": "EHmn2jkTWW48"
      },
      "outputs": [],
      "source": [
        "def dodaj_pacjenta(imie, nazwisko, pesel, email, haslo):\n",
        "    conn = sqlite3.connect(\"pacjenci.db\")\n",
        "    cursor = conn.cursor()\n",
        "    cursor.execute(\"INSERT INTO pacjenci (imie, nazwisko, pesel, email, haslo) VALUES (?, ?, ?, ?, ?)\",\n",
        "                   (imie, nazwisko, pesel, email, haslo))\n",
        "    conn.commit()\n",
        "    conn.close()\n",
        "\n",
        "# Przykładowe dodanie pacjenta\n",
        "dodaj_pacjenta(\"Jan\", \"Nowak\", \"78954579535\", \"jan@example.com\", \"qwerty\")"
      ]
    },
    {
      "cell_type": "markdown",
      "metadata": {
        "id": "FMcZdo5HWW49"
      },
      "source": [
        "## 4. Formularz logowania"
      ]
    },
    {
      "cell_type": "code",
      "execution_count": null,
      "metadata": {
        "colab": {
          "base_uri": "https://localhost:8080/",
          "height": 158
        },
        "id": "Y0FUDiZbWW49",
        "outputId": "3c39940d-2769-4b2f-b092-47bf0b997f00"
      },
      "outputs": [
        {
          "output_type": "display_data",
          "data": {
            "text/plain": [
              "<IPython.core.display.HTML object>"
            ],
            "text/html": [
              "\n",
              "<h2>Logowanie pacjenta</h2>\n",
              "<form action=\"/login\" method=\"post\">\n",
              "  Email: <input type=\"email\" name=\"email\"><br><br>\n",
              "  Hasło: <input type=\"password\" name=\"haslo\"><br><br>\n",
              "  <input type=\"submit\" value=\"Zaloguj się\">\n",
              "</form>\n"
            ]
          },
          "metadata": {}
        }
      ],
      "source": [
        "login_html = \"\"\"\n",
        "<h2>Logowanie pacjenta</h2>\n",
        "<form action=\"/login\" method=\"post\">\n",
        "  Email: <input type=\"email\" name=\"email\"><br><br>\n",
        "  Hasło: <input type=\"password\" name=\"haslo\"><br><br>\n",
        "  <input type=\"submit\" value=\"Zaloguj się\">\n",
        "</form>\n",
        "\"\"\"\n",
        "\n",
        "display(HTML(login_html))"
      ]
    },
    {
      "cell_type": "markdown",
      "metadata": {
        "id": "os10__e3WW4-"
      },
      "source": [
        "## 5. Mechanizm logowania"
      ]
    },
    {
      "cell_type": "code",
      "execution_count": null,
      "metadata": {
        "colab": {
          "base_uri": "https://localhost:8080/"
        },
        "id": "txFveg2bWW4-",
        "outputId": "041c0344-f1bc-43d3-baa1-54f5c1538ba8"
      },
      "outputs": [
        {
          "output_type": "stream",
          "name": "stdout",
          "text": [
            "Zalogowano: (1, 'Jan', 'Nowak', '78954579535', 'jan@example.com', 'qwerty')\n"
          ]
        }
      ],
      "source": [
        "def zaloguj_pacjenta(email, haslo):\n",
        "    conn = sqlite3.connect(\"pacjenci.db\")\n",
        "    cursor = conn.cursor()\n",
        "    cursor.execute(\"SELECT * FROM pacjenci WHERE email=? AND haslo=?\", (email, haslo))\n",
        "    user = cursor.fetchone()\n",
        "    conn.close()\n",
        "    return user\n",
        "\n",
        "# Test\n",
        "user = zaloguj_pacjenta(\"jan@example.com\", \"qwerty\")\n",
        "if user:\n",
        "    print(\"Zalogowano:\", user)\n",
        "else:\n",
        "    print(\"Nieprawidłowy login lub hasło.\")"
      ]
    },
    {
      "cell_type": "markdown",
      "metadata": {
        "id": "9jBqXoOvWW4_"
      },
      "source": [
        "## 6. Karta pacjenta"
      ]
    },
    {
      "cell_type": "code",
      "execution_count": null,
      "metadata": {
        "colab": {
          "base_uri": "https://localhost:8080/",
          "height": 160
        },
        "id": "6yAjWCQLWW4_",
        "outputId": "9c016258-5527-4097-c7f0-b4b82c39d6dd"
      },
      "outputs": [
        {
          "output_type": "display_data",
          "data": {
            "text/plain": [
              "<IPython.core.display.HTML object>"
            ],
            "text/html": [
              "\n",
              "        <h2>Karta pacjenta</h2>\n",
              "        <p><strong>Imię:</strong> Jan</p>\n",
              "        <p><strong>Nazwisko:</strong> Nowak</p>\n",
              "        <p><strong>PESEL:</strong> 78954579535</p>\n",
              "        <p><strong>Email:</strong> jan@example.com</p>\n",
              "        "
            ]
          },
          "metadata": {}
        }
      ],
      "source": [
        "def wyswietl_karte_pacjenta(email):\n",
        "    conn = sqlite3.connect(\"pacjenci.db\")\n",
        "    cursor = conn.cursor()\n",
        "    cursor.execute(\"SELECT imie, nazwisko, pesel, email FROM pacjenci WHERE email=?\", (email,))\n",
        "    pacjent = cursor.fetchone()\n",
        "    conn.close()\n",
        "\n",
        "    if pacjent:\n",
        "        html = f\"\"\"\n",
        "        <h2>Karta pacjenta</h2>\n",
        "        <p><strong>Imię:</strong> {pacjent[0]}</p>\n",
        "        <p><strong>Nazwisko:</strong> {pacjent[1]}</p>\n",
        "        <p><strong>PESEL:</strong> {pacjent[2]}</p>\n",
        "        <p><strong>Email:</strong> {pacjent[3]}</p>\n",
        "        \"\"\"\n",
        "        display(HTML(html))\n",
        "    else:\n",
        "        print(\"Pacjent nie znaleziony.\")\n",
        "\n",
        "# Przykład\n",
        "wyswietl_karte_pacjenta(\"jan@example.com\")"
      ]
    }
  ],
  "metadata": {
    "colab": {
      "provenance": [],
      "toc_visible": true,
      "include_colab_link": true
    },
    "kernelspec": {
      "display_name": "Python 3",
      "language": "python",
      "name": "python3"
    },
    "language_info": {
      "name": "python"
    }
  },
  "nbformat": 4,
  "nbformat_minor": 0
}